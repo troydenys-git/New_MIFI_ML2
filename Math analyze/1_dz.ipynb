{
 "cells": [
  {
   "cell_type": "markdown",
   "id": "70b12a65",
   "metadata": {},
   "source": [
    "Задание 1 расчет вручную\n",
    "Задание 2 вручную и пайтон, сравнить результаты\n",
    "Задание 3 реализовать градиентный спуск самостоятельно, не использую готовые библиотеки."
   ]
  },
  {
   "cell_type": "markdown",
   "id": "34ac8453",
   "metadata": {},
   "source": [
    "если кому интересно, я строил рядом еще сходимость град спуска с momentum и функцию более подходящую для этого брал, можно побаловаться и посмотреть наглядно как инерция добавляет сходимости"
   ]
  },
  {
   "cell_type": "code",
   "execution_count": null,
   "id": "00e989f8",
   "metadata": {},
   "outputs": [],
   "source": [
    "\n",
    "import numpy as np\n",
    "import matplotlib.pyplot as plt\n",
    "\n",
    "a, b = 99, 3\n",
    "x=[1.5,6]\n",
    "\n",
    "def fun(x, y):\n",
    "    return a * (x ** 2) + b * (y ** 2)\n",
    "\n",
    "def grad(x, y):\n",
    "    return np.array([2 * a * x, 2 * b * y])\n",
    "\n",
    "def grad_descend(grad, step_size=0.2, num_steps=30, x0=np.random.uniform(0, 3, size = 2)):\n",
    "    lst = []\n",
    "    lst.append(x0)\n",
    "    for _ in range(num_steps):\n",
    "        x0 = x0 - step_size * grad(x0[0], x0[1])\n",
    "        lst.append(x0)\n",
    "    return np.array(lst)\n",
    "\n",
    "def grad_descend_momentum(grad, step_size=0.2, beta=0.9, num_steps=30, x0=np.random.uniform(0, 3, size = 2)):\n",
    "    lst = []\n",
    "    v = np.zeros_like(x0)\n",
    "    lst.append(x0)\n",
    "    for _ in range(num_steps):\n",
    "        g = grad(x0[0], x0[1])\n",
    "        v = beta * v + g\n",
    "        x0 = x0 - step_size * v\n",
    "        lst.append(x0)\n",
    "    return np.array(lst)\n",
    "\n",
    "def plot_grad(fun, trace, trace_m):\n",
    "    fig = plt.figure(figsize=(10, 8))\n",
    "    x_ = np.linspace(-4, 4, 100)\n",
    "    y_ = np.linspace(-2, 7, 100)\n",
    "    x, y = np.meshgrid(x_, y_)\n",
    "    z = fun(x, y)\n",
    "    ax = fig.add_subplot(1, 1, 1, projection='3d')\n",
    "    ax.plot_surface(x, y, z, alpha=0.5)\n",
    "    z_trace = fun(trace[:, 0], trace[:, 1])\n",
    "    ax.plot(trace[:, 0], trace[:, 1], z_trace, \"o-\")\n",
    "    z_trace_m = fun(trace_m[:, 0], trace_m[:, 1])\n",
    "    ax.plot(trace_m[:, 0], trace_m[:, 1], z_trace_m, \"o-\")\n",
    "\n",
    "    ax.set_xlim(x.min(), x.max())\n",
    "    ax.set_ylim(y.min(), y.max())\n",
    "    ax.set_zlim(z.min(), z.max())\n",
    "    ax.view_init(45, 60)\n",
    "    \n",
    "trace = grad_descend(grad, step_size=0.01, num_steps=30, x0=x)\n",
    "trace_m  = grad_descend_momentum(grad, step_size=0.01, beta=0.6, num_steps=15, x0=x)\n",
    "\n",
    "plot_grad(fun, trace = trace, trace_m=trace_m)"
   ]
  },
  {
   "cell_type": "markdown",
   "id": "0dee24c0-e9bf-427b-9b04-43e4c8220228",
   "metadata": {
    "id": "0dee24c0-e9bf-427b-9b04-43e4c8220228"
   },
   "source": [
    "# Домашнее задание"
   ]
  },
  {
   "cell_type": "markdown",
   "id": "feafcfd9-2d32-4682-bcd0-07a0c9bbd32c",
   "metadata": {
    "id": "feafcfd9-2d32-4682-bcd0-07a0c9bbd32c"
   },
   "source": [
    "Математический анализ\n",
    "69 баллов"
   ]
  },
  {
   "cell_type": "markdown",
   "id": "b2345ed9-1018-4084-9636-7e7b92bd6c64",
   "metadata": {
    "id": "b2345ed9-1018-4084-9636-7e7b92bd6c64"
   },
   "source": [
    "## **Задача 1** (14 баллов)\n",
    "\n",
    "#### Найдите экстремумы функции:"
   ]
  },
  {
   "cell_type": "markdown",
   "id": "e25e75bf-9d1e-4511-8846-8bfe99ae17f8",
   "metadata": {
    "id": "e25e75bf-9d1e-4511-8846-8bfe99ae17f8"
   },
   "source": [
    "$$\n",
    "f(x, y, z)=2 x^3+2 x y+2 x z+y^2+z^2+2 y-8 .\n",
    "$$\n",
    "\n",
    "#### Распишите подробное решение."
   ]
  },
  {
   "cell_type": "markdown",
   "id": "100abb6e",
   "metadata": {},
   "source": [
    "### Задача 1. Нахождение экстремумов функции — 5 баллов \n",
    "    1.1. Вычисление частных производных - 1 балл \n",
    "    1.2. Составление системы уравнений - 1 балл \n",
    "    1.3. Решение системы уравнений - 1 балл \n",
    "    1.4. Анализ второго порядка - 1 балл \n",
    "    1.5. Запись результата и выводов - 1 балл"
   ]
  },
  {
   "cell_type": "markdown",
   "id": "4bb8b22a",
   "metadata": {},
   "source": [
    "### **1.1. Вычисление частных производных**\n",
    "В задаче представлена функция нескольких переменных $f(x, y, z)=2 x^3+2 x y+2 x z+y^2+z^2+2 y-8$. Производные для функций нескольких переменных называются частными производными.\n",
    "\n",
    "\n",
    "$$\n",
    "\\begin{align}\n",
    "\\text{Частная производная первого порядка f от x: }\\hspace{1cm} f'_x &= 2 * 3 x^2 + 2 y + 2 z \\\\\n",
    "\n",
    "\\text{Частная производная первого порядка f от y: }\\hspace{1cm} f'_y &= 2 x + 2 y + 2 \\\\\n",
    "\n",
    "\\text{Частная производная первого порядка f от z: }\\hspace{1cm} f'_z &= 2 x + 2 z \n",
    "\\end{align}\n",
    "$$\n",
    "\n"
   ]
  },
  {
   "cell_type": "markdown",
   "id": "6020e455",
   "metadata": {},
   "source": [
    "### **1.2. Составление системы уравнений**\\\n",
    "Далее необходимо найти точки, в которых частные производные принимают нулевые значения. Для этого необходимо приравнять частные производные к нулю и составить систему уравнений из полученных равенств.\n",
    "\n",
    "Система уравнений частных производных, приравненных к нулю:\n",
    "$$\n",
    " \\begin{equation}\n",
    "    \\begin{cases}\n",
    "        6 x^2 + 2 y + 2 z = 0\\\\\n",
    "        2 x + 2 y + 2 = 0 \\\\\n",
    "        2 x + 2 z = 0\n",
    "    \\end{cases}\n",
    "\\end{equation}\n",
    "$$\n"
   ]
  },
  {
   "cell_type": "markdown",
   "id": "b94ca072",
   "metadata": {},
   "source": [
    "### **1.3. Решение системы уравнений**\\\n",
    "Полученную систему уравнений будем решать методом подстановки.\n",
    "\n",
    "Для начала, так как все элементы системы имеют множители, кратные двум, упростим систему, поделив каждое уравнение на два:\n",
    "$$\n",
    " \\begin{equation}\n",
    " \\left.\n",
    "    \\begin{cases}\n",
    "        6 x^2 + 2 y + 2 z = 0\\\\\n",
    "        2 x + 2 y + 2 = 0 \\\\\n",
    "        2 x + 2 z = 0\n",
    "    \\end{cases}\n",
    "    \\right\\| :2 \\Rightarrow\n",
    "    \\left.\n",
    "    \\begin{cases}\n",
    "        3 x^2 + y + z = 0\\\\\n",
    "        x + y + 1 = 0 \\\\\n",
    "        x + z = 0\n",
    "    \\end{cases}\n",
    "    \\right.\n",
    "\\end{equation}\n",
    "$$\n",
    "\n",
    "Далее из второго уравнения системы выразим $y$, из третьего уравнения выразим $z$, и подставим значения $y$ и $z$ в первое уравнение:\n",
    "$$\n",
    " \\begin{equation}\n",
    " \\left.\n",
    "    \\begin{cases}\n",
    "        3 x^2 + (- x - 1) + (-x) = 0\\\\\n",
    "        y = - x - 1 \\\\\n",
    "        z = - x\n",
    "    \\end{cases}\n",
    "    \\right.\\Rightarrow\n",
    "    \\left.\n",
    "    \\begin{cases}\n",
    "        3 x^2 - x - 1 -x = 0\\\\\n",
    "        y = - x - 1 \\\\\n",
    "        z = - x\n",
    "    \\end{cases}\n",
    "    \\right.\\Rightarrow\n",
    "    \\left.\n",
    "    \\begin{cases}\n",
    "        3 x^2 - 2 x - 1 = 0\\\\\n",
    "        y = - x - 1 \\\\\n",
    "        z = - x\n",
    "    \\end{cases}\n",
    "    \\right.\n",
    "\\end{equation}\n",
    "$$\n"
   ]
  },
  {
   "cell_type": "markdown",
   "id": "502466f9",
   "metadata": {},
   "source": [
    "Для нахождения значения $x$ необходимо решить квадратное уравнение $3 x^2 - 2 x - 1 = 0$, для этого воспользуемся теоремой Виета. Теорема Виета устанавливает связь между корнями квадратного уравнения $ax^{2}+bx+c=0$ и его коэффициентами: сумма корней $x_{1}+x_{2}$ равна $-b/a$, а произведение корней $x_{1}\\cdot x_{2}$ равно $c/a$.\n",
    "Для нашего случая:\n",
    "1) Cумма корней $\\hspace{0.5cm}x_{1}+x_{2} = -b/a = -(-2/3) = \\frac{2}{3}$\n",
    "\n",
    "2) Произведение корней $\\hspace{0.5cm}x_{1}\\cdot x_{2} = c/a = -1/3 = -\\frac{1}{3}$\n",
    "\n",
    "Далее методом подбора находим значения корней $x_{1}$, $x_{2}$:\n",
    "1) $x_{1} = 1$ \\\n",
    "Проверим, подставив значение в уравнение: $\\hspace{0.5cm}3*1^2 - 2*1 - 1 = 0 \\hspace{0.5cm}\\Rightarrow\\hspace{0.5cm} 3 - 2 - 1 = 0 \\hspace{0.5cm}\\Rightarrow\\hspace{0.5cm} 0 = 0$\n",
    "\n",
    "2) $x_{2} = -\\frac{1}{3}$ \\\n",
    "Проверим, подставив значение в уравнение: $\\hspace{0.5cm}3*(-\\frac{1}{3})^2 - 2*(-\\frac{1}{3}) - 1 = 0 \\hspace{0.5cm}\\Rightarrow\\hspace{0.5cm} 3 * \\frac{1}{9} + \\frac{2}{3} - 1 = 0\\hspace{0.5cm}\\Rightarrow\\hspace{0.5cm}\\frac{3}{9} + \\frac{2}{3} - 1 = 0\\hspace{0.5cm}\\Rightarrow\\hspace{0.5cm} 1 - 1 = 0\\hspace{0.5cm}\\Rightarrow\\hspace{0.5cm} 0 = 0$"
   ]
  },
  {
   "cell_type": "markdown",
   "id": "f83ae909",
   "metadata": {},
   "source": [
    "### **1.4. Анализ второго порядка**\n",
    "Для нахождения экстремумов функции нескольких переменных"
   ]
  },
  {
   "cell_type": "code",
   "execution_count": 10,
   "id": "2330c94f",
   "metadata": {},
   "outputs": [
    {
     "name": "stdout",
     "output_type": "stream",
     "text": [
      "{x: 1/4, y: -5/4, z: -1/4}\n"
     ]
    }
   ],
   "source": [
    "\n",
    "from sympy import *\n",
    "x, y, z = symbols('x y z')\n",
    "f1 = Eq(3*(x*2) - 2*x -1, 0)\n",
    "f2 = Eq(x + y + 1, 0)\n",
    "f3 = Eq(x + z, 0)\n",
    "solv = solve((f1,f2,f3), (x,y,z,))\n",
    "print(solv)"
   ]
  },
  {
   "cell_type": "markdown",
   "id": "b38584b7-0da5-4858-9422-ff5bc2b3854f",
   "metadata": {
    "id": "b38584b7-0da5-4858-9422-ff5bc2b3854f"
   },
   "source": [
    "## **Задача 2** (25 баллов)\n",
    "\n",
    "Найдите условные экстремумы функции:"
   ]
  },
  {
   "cell_type": "markdown",
   "id": "b36ed820-965b-484d-baab-b2cafebe7479",
   "metadata": {
    "id": "b36ed820-965b-484d-baab-b2cafebe7479"
   },
   "source": [
    "$$\n",
    " f(x, y)=4 x+8 y, y^2-2 x y+5=0\n",
    "$$"
   ]
  },
  {
   "cell_type": "markdown",
   "id": "2ce1c6f1-d126-4368-a63e-2bbbefffd542",
   "metadata": {
    "id": "2ce1c6f1-d126-4368-a63e-2bbbefffd542"
   },
   "source": [
    "Вычислите результат самостоятельно (вручную) и с помощью Python. Сравните результаты."
   ]
  },
  {
   "cell_type": "code",
   "execution_count": null,
   "id": "818929f6-c478-49ad-997e-536d3c4f7f33",
   "metadata": {
    "id": "818929f6-c478-49ad-997e-536d3c4f7f33"
   },
   "outputs": [],
   "source": []
  },
  {
   "cell_type": "markdown",
   "id": "818083c3-7318-4669-bb15-5a8a48ef543d",
   "metadata": {
    "id": "818083c3-7318-4669-bb15-5a8a48ef543d"
   },
   "source": [
    "## **Задача 3** (30 баллов)\n",
    "\n",
    "Вам предложены данные с информацией о успеваемости студентов:\n",
    "\n",
    "Независимые переменные:\n",
    "* Hours Studied: Общее количество часов, потраченных на учебу каждым студентом.\n",
    "* Previous Scores: Баллы, полученные студентами на предыдущих экзаменах.\n",
    "* Sleep Hours: Среднее количество часов сна студента в сутки.\n",
    "* Sample Question Papers Practiced: Количество пробных экзаменационных работ, с которыми студент занимался.\n",
    "  \n",
    "Целевая переменная:\n",
    "* Performance Index: Показатель общей успеваемости каждого студента. Индекс успеваемости отражает академическую успеваемость студента и округляется до ближайшего целого числа. Индекс варьируется от 10 до 100, при этом более высокие значения свидетельствуют о более высокой успеваемости."
   ]
  },
  {
   "cell_type": "markdown",
   "id": "f65c2300-43b2-4c43-b762-1e20d29ae889",
   "metadata": {
    "id": "f65c2300-43b2-4c43-b762-1e20d29ae889"
   },
   "source": [
    "**Решите задачу линейной регрессии, реализовав градиентный спуск самостоятельно, не используя готовое решение из какой-либо библиотеки.**"
   ]
  },
  {
   "cell_type": "code",
   "execution_count": null,
   "id": "3900c065-fb9b-45bf-bc1f-a9c9d0ab5c20",
   "metadata": {
    "id": "3900c065-fb9b-45bf-bc1f-a9c9d0ab5c20"
   },
   "outputs": [],
   "source": []
  }
 ],
 "metadata": {
  "colab": {
   "provenance": []
  },
  "kernelspec": {
   "display_name": "Python 3",
   "language": "python",
   "name": "python3"
  },
  "language_info": {
   "codemirror_mode": {
    "name": "ipython",
    "version": 3
   },
   "file_extension": ".py",
   "mimetype": "text/x-python",
   "name": "python",
   "nbconvert_exporter": "python",
   "pygments_lexer": "ipython3",
   "version": "3.10.11"
  }
 },
 "nbformat": 4,
 "nbformat_minor": 5
}
