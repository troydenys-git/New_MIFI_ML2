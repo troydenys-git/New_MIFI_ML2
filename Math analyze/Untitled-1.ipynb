{
 "cells": [
  {
   "cell_type": "markdown",
   "id": "83dc9ffd",
   "metadata": {},
   "source": [
    "## **Задача 3**\n",
    "\n",
    "Вам предложены данные с информацией о успеваемости студентов:\n",
    "\n",
    "Независимые переменные:\n",
    "* Hours Studied: Общее количество часов, потраченных на учебу каждым студентом.\n",
    "* Previous Scores: Баллы, полученные студентами на предыдущих экзаменах.\n",
    "* Sleep Hours: Среднее количество часов сна студента в сутки.\n",
    "* Sample Question Papers Practiced: Количество пробных экзаменационных работ, с которыми студент занимался.\n",
    "  \n",
    "Целевая переменная:\n",
    "* Performance Index: Показатель общей успеваемости каждого студента. Индекс успеваемости отражает академическую успеваемость студента и округляется до ближайшего целого числа. Индекс варьируется от 10 до 100, при этом более высокие значения свидетельствуют о более высокой успеваемости.\n",
    "\n",
    "Формализация задачи линейной регрессии - 1 балл\\\n",
    "Реализация функции ошибок (потерь) - 2 балла\\\n",
    "Реализация градиентного спуска - 3 балла\\\n",
    "Предобработка данных - 1 балл\\\n",
    "Данные подготовлены корректно, отсюда утствие пропусков, нормализация или стандартизация выполнены (если нужно), возможно стандартизация нужна, плюс скорректировать бинарные признаки.\\\n",
    "\n",
    "Анализ итоговой модели и коэффициентов регрессии - 1 балл\\\n",
    "Предсказание и оценка точности модели - 1 балл\\\n",
    "Сравнение с библиотечными решениями Python (sklearn) - 1 балл\\\n",
    "Проведено сравнение собственных расчетов с результатами использования библиотек. Оценена точность совпадения.\n",
    "\n",
    "Вывод и интерпретация результатов - 1 балл\\"
   ]
  },
  {
   "cell_type": "code",
   "execution_count": 174,
   "id": "32acf784",
   "metadata": {},
   "outputs": [
    {
     "name": "stdout",
     "output_type": "stream",
     "text": [
      "grad_d_weights [[55.3115    ]\n",
      " [ 7.40240354]\n",
      " [17.63809533]\n",
      " [ 0.80387754]\n",
      " [ 0.54854088]]\n",
      "\n",
      "skl_weights [[ 0.          7.40240354 17.63809533  0.80387754  0.54854088]]\n",
      "\n",
      "skl_w_0 [55.3115]\n"
     ]
    },
    {
     "data": {
      "text/plain": [
       "'regression_metrics_train'"
      ]
     },
     "metadata": {},
     "output_type": "display_data"
    },
    {
     "data": {
      "text/plain": [
       "{'MSE': 4.262289072936617,\n",
       " 'RMSE': np.float64(2.064531199312962),\n",
       " 'R²': 0.9884388348325367}"
      ]
     },
     "metadata": {},
     "output_type": "display_data"
    },
    {
     "name": "stdout",
     "output_type": "stream",
     "text": [
      "\n"
     ]
    },
    {
     "data": {
      "text/plain": [
       "'regression_metrics_test'"
      ]
     },
     "metadata": {},
     "output_type": "display_data"
    },
    {
     "data": {
      "text/plain": [
       "{'MSE': 4.182254914551319,\n",
       " 'RMSE': np.float64(2.0450562130541345),\n",
       " 'R²': 0.9887144552385333}"
      ]
     },
     "metadata": {},
     "output_type": "display_data"
    },
    {
     "data": {
      "image/png": "[encoded data removed]",
      "text/plain": [
       "<Figure size 640x480 with 1 Axes>"
      ]
     },
     "metadata": {},
     "output_type": "display_data"
    }
   ],
   "source": [
    "import numpy as np\n",
    "import pandas as pd\n",
    "import matplotlib.pyplot as plt\n",
    "import seaborn as sns\n",
    "\n",
    "# данные, предобработка, моделирование\n",
    "from sklearn.preprocessing import StandardScaler\n",
    "from sklearn.model_selection import train_test_split\n",
    "from sklearn.linear_model import LinearRegression, SGDRegressor\n",
    "\n",
    "# метрики\n",
    "from sklearn.metrics import (\n",
    "    mean_squared_error,\n",
    "    mean_absolute_error,\n",
    "    mean_absolute_percentage_error,\n",
    "    mean_squared_log_error,\n",
    "    max_error,\n",
    "    r2_score\n",
    ")\n",
    "\n",
    "np.random.seed(28)\n",
    "\n",
    "\n",
    "#Загружаем файл с данными. Преобразуем его в датафрейм.\n",
    "\n",
    "df = pd.read_csv('C:\\IDE\\Math analyze\\Student_Performance.txt')\n",
    "\n",
    "#Получаем информацию о датафрейме, в том числе убеждаемся в отсутствии пропусков, так как даный метод указывает эту информацию. \n",
    "\n",
    "#df.info()\n",
    "\n",
    "\n",
    "#Определяем признаки\n",
    "X = df[['Hours Studied',\t'Previous Scores',\t'Sleep Hours',\t'Sample Question Papers Practiced']]\n",
    "#print(X)\n",
    "\n",
    "\n",
    "\n",
    "#Определяем целевую переменную\n",
    "y = df['Performance Index']\n",
    "#print(y)\n",
    "\n",
    "# Разделим на train и test\n",
    "X_train, X_test, y_train, y_test = train_test_split(X, y, test_size=0.2, random_state=42)\n",
    "\n",
    "# Стандартизируем данные\n",
    "scaler = StandardScaler()\n",
    "X_train = scaler.fit_transform(X_train)\n",
    "X_test = scaler.transform(X_test)\n",
    "\n",
    "# Прибавляем к массиву признаков столбец свободных коэффициентов, также проверяем размерность массива признаков\n",
    "n_train = len(y_train)\n",
    "n_test = len(y_test)\n",
    "X_train = np.append(np.ones((n_train,1)), X_train.reshape(n_train,4), axis = 1)\n",
    "X_test = np.append(np.ones((n_test,1)), X_test.reshape(n_test,4), axis = 1)\n",
    "\n",
    "# Задаем необходимую размерность массива целевой переменной\n",
    "y_train = y_train.values.reshape(n_train,1)\n",
    "\n",
    "# Задаем начальное приближение, нулевой вектор размерностью, необходимой для умножения на массив признаков\n",
    "\n",
    "weights = np.zeros((X_train.shape[1], 1))\n",
    "#print(weights)\n",
    "\n",
    "\n",
    "# Составляем функцию ошибок(потерь)\n",
    "\n",
    "def loss_function(X, y , weights):\n",
    "    \n",
    "    # Расчет предсказания модели\n",
    "    y_pred = np.dot(X, weights)\n",
    "    \n",
    "    # Расчет значения функции ошибки MSE\n",
    "    error = (y_pred - y)**2\n",
    "    loss = 1/(n)*np.sum(error)\n",
    "  \n",
    "    return loss\n",
    "\n",
    "# Составляем функцию градиентного спуска\n",
    "def grad_d(X, y, weights, step, iterations):\n",
    "\n",
    "    losses = []\n",
    "    for i in range(iterations):\n",
    "        y_pred = np.dot(X, weights)\n",
    "        grad = (2/n) * ((X.transpose())@(y_pred - y))\n",
    "        \n",
    "        weights -= step * grad\n",
    "        losses.append(loss_function(X, y, weights))\n",
    "\n",
    "    return weights, losses\n",
    "\n",
    "weights, losses_opt = grad_d(X_train, y_train, weights, 0.00018, 70000)\n",
    "\n",
    "print('grad_d_weights', weights)\n",
    "print()\n",
    "\n",
    "from sklearn.linear_model import LinearRegression\n",
    "model = LinearRegression()\n",
    "model.fit(X_train,y_train)\n",
    "print('skl_weights', model.coef_)\n",
    "print()\n",
    "print('skl_w_0', model.intercept_)\n",
    "\n",
    "p_gd_train = X_train @ weights\n",
    "p_gd_test = X_test @ weights\n",
    "\n",
    "def regression_metrics(y_true, y_pred):\n",
    "    \"\"\"\n",
    "    Вычисляет метрики качества линейной регрессии.\n",
    "\n",
    "    Parameters\n",
    "    ----------\n",
    "    y_true : array-like\n",
    "        Реальные значения (таргет).\n",
    "    y_pred : array-like\n",
    "        Предсказанные значения.\n",
    "\n",
    "    Returns\n",
    "    -------\n",
    "    dict\n",
    "        Словарь с метриками: MSE, RMSE,  R².\n",
    "    \"\"\"\n",
    "\n",
    "    # MSE\n",
    "    mse = mean_squared_error(y_true, y_pred)\n",
    "\n",
    "    # RMSE\n",
    "    rmse = np.sqrt(mse)\n",
    "\n",
    "    # R^2\n",
    "    r2 = r2_score(y_true, y_pred)\n",
    "\n",
    "    return {\n",
    "        \"MSE\": mse,\n",
    "        \"RMSE\": rmse,\n",
    "        \"R²\": r2\n",
    "    }\n",
    "    \n",
    "display('regression_metrics_train', regression_metrics(y_train, p_gd_train))\n",
    "print()\n",
    "display('regression_metrics_test', regression_metrics(y_test, p_gd_test))\n",
    "\n",
    "# График сходимости градиентного спуска\n",
    "def plot_history(losses):\n",
    "    \"\"\"\n",
    "    Визуализация графика сходимости\n",
    "    (значение losses в зависимости от номера итерации)\n",
    "    \"\"\"\n",
    "    plt.plot(losses)\n",
    "    plt.xlabel(\"Iteration\")\n",
    "    plt.ylabel(\"MSE Loss\")\n",
    "    plt.title(\"График сходимости градиентного спуска\")\n",
    "    plt.grid(True)\n",
    "    plt.show()\n",
    "    \n",
    "plot_history(losses_opt)  \n",
    "    \n",
    "\n",
    "\n"
   ]
  }
 ],
 "metadata": {
  "kernelspec": {
   "display_name": "Python 3",
   "language": "python",
   "name": "python3"
  },
  "language_info": {
   "codemirror_mode": {
    "name": "ipython",
    "version": 3
   },
   "file_extension": ".py",
   "mimetype": "text/x-python",
   "name": "python",
   "nbconvert_exporter": "python",
   "pygments_lexer": "ipython3",
   "version": "3.10.11"
  }
 },
 "nbformat": 4,
 "nbformat_minor": 5
}
