{
 "cells": [
  {
   "cell_type": "markdown",
   "id": "8f5ec648",
   "metadata": {},
   "source": [
    "#**Угадай** *число*\n",
    "#1\n",
    "##2\n",
    "###3\n",
    "####4\n",
    "lfgzdhg;zdngzdkglzf\n",
    "- 1.\n",
    "- 2.\n",
    "    - 2.1.\n"
   ]
  },
  {
   "cell_type": "code",
   "execution_count": 11,
   "id": "e4196a95",
   "metadata": {},
   "outputs": [],
   "source": [
    "from example2 import score_game, random_predict \n"
   ]
  },
  {
   "cell_type": "markdown",
   "id": "d93f75f0",
   "metadata": {},
   "source": [
    "##Угадываем число"
   ]
  },
  {
   "cell_type": "code",
   "execution_count": 10,
   "id": "5dedfff8",
   "metadata": {},
   "outputs": [
    {
     "name": "stdout",
     "output_type": "stream",
     "text": [
      "Ваш алгоритм угадывает число в среднем за: 101 попыток\n"
     ]
    },
    {
     "data": {
      "text/plain": [
       "101"
      ]
     },
     "execution_count": 10,
     "metadata": {},
     "output_type": "execute_result"
    }
   ],
   "source": [
    "score_game(random_predict)"
   ]
  },
  {
   "cell_type": "code",
   "execution_count": 12,
   "id": "17637a36",
   "metadata": {},
   "outputs": [
    {
     "name": "stdout",
     "output_type": "stream",
     "text": [
      "Количество попыток: 9\n",
      "Ваш алгоритм угадывает число в среднем за: 101 попыток\n"
     ]
    }
   ],
   "source": [
    "%run example2.py"
   ]
  },
  {
   "cell_type": "code",
   "execution_count": 9,
   "id": "814fc561",
   "metadata": {},
   "outputs": [],
   "source": [
    "n = 5\n",
    "z = n*2"
   ]
  },
  {
   "cell_type": "code",
   "execution_count": 15,
   "id": "d764b4ee",
   "metadata": {},
   "outputs": [
    {
     "data": {
      "text/plain": [
       "0.8333333333333334"
      ]
     },
     "execution_count": 15,
     "metadata": {},
     "output_type": "execute_result"
    }
   ],
   "source": [
    "5/6\n",
    "\n"
   ]
  }
 ],
 "metadata": {
  "kernelspec": {
   "display_name": "Python 3",
   "language": "python",
   "name": "python3"
  },
  "language_info": {
   "codemirror_mode": {
    "name": "ipython",
    "version": 3
   },
   "file_extension": ".py",
   "mimetype": "text/x-python",
   "name": "python",
   "nbconvert_exporter": "python",
   "pygments_lexer": "ipython3",
   "version": "3.10.11"
  }
 },
 "nbformat": 4,
 "nbformat_minor": 5
}
