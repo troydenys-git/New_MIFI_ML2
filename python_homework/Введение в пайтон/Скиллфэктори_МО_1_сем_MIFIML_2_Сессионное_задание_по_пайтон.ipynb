{
  "nbformat": 4,
  "nbformat_minor": 0,
  "metadata": {
    "colab": {
      "provenance": []
    },
    "kernelspec": {
      "name": "python3",
      "display_name": "Python 3"
    },
    "language_info": {
      "name": "python"
    }
  },
  "cells": [
    {
      "cell_type": "markdown",
      "source": [
        "Задание 1 (10 баллов)\n",
        "Обратный порядок слов в блоках текста"
      ],
      "metadata": {
        "id": "ljyivOUL0yLM"
      }
    },
    {
      "cell_type": "code",
      "source": [
        "\n",
        "# передаем функции open() адрес файла\n",
        "\n",
        "f1 = open('/content/1 task.txt', 'r')\n",
        "# метод .read() помещает весь файл в одну строку\n",
        "text = f1.read()\n",
        "text = text.split('\\n')\n",
        "block_odd_sent = []\n",
        "block_even_sent = []\n",
        "#Разбиваем текст на 2 блока по четным и нечетным индексам.\n",
        "for i in range(len(text)):\n",
        "  if i % 2 == 0:\n",
        "    block_odd_sent.append(text[i])\n",
        "  else:\n",
        "    block_even_sent.append(text[i])\n",
        "#Функция для переворачивания порядка слов в предложениях\n",
        "def sent_reverse(block):\n",
        "  block_reverse = ''\n",
        "  for sent in block:\n",
        "    sent = sent.split()\n",
        "\n",
        "    block_reverse = ' '.join(sent[::-1])\n",
        "    print(block_reverse)\n",
        "\n",
        "sent_reverse(block_odd_sent)\n",
        "sent_reverse(block_even_sent)\n",
        "\n",
        "f1.close()"
      ],
      "metadata": {
        "colab": {
          "base_uri": "https://localhost:8080/"
        },
        "id": "ZO9YcrFn04H7",
        "outputId": "ea61666c-b363-4e03-a141-9ea4c0b33a70"
      },
      "execution_count": null,
      "outputs": [
        {
          "output_type": "stream",
          "name": "stdout",
          "text": [
            "дела как Привет\n",
            "программирование люблю Я\n",
            "дождь идет улице На\n"
          ]
        }
      ]
    },
    {
      "cell_type": "markdown",
      "source": [
        "Задание 2 (6 баллов)\n",
        "Сжатие строки\n"
      ],
      "metadata": {
        "id": "ubw7T2MxaqpT"
      }
    },
    {
      "cell_type": "code",
      "source": [
        "#Функция, сжимающая строку\n",
        "def comp_string(string):\n",
        "  #Создаем результирующий список\n",
        "  result_string = ''\n",
        "  #Проверяем количество вхождений символа в строку\n",
        "  for sym in string:\n",
        "    sym_count = string.count(sym)\n",
        "    #Пропускаем пробелы, они не являются спец символами\n",
        "    if sym == ' ':\n",
        "      continue\n",
        "    #Если символ не повторяется, просто добавляем его в сжатую строку\n",
        "    if sym_count == 1:\n",
        "      result_string += sym\n",
        "    #Если символ повторяется, и он еще не занесен в результат, добавляем его в результат и его количество\n",
        "    else:\n",
        "      if sym not in result_string:\n",
        "        result_string += (sym + str(sym_count))\n",
        "\n",
        "  return result_string\n",
        "\n",
        "comp_string(\"vxnvklsfjbbbbnnvcvv.cv\")"
      ],
      "metadata": {
        "id": "764eytx0aZtn",
        "colab": {
          "base_uri": "https://localhost:8080/"
        },
        "outputId": "4674915a-36e6-4535-a6fc-07033ba4e095"
      },
      "execution_count": null,
      "outputs": [
        {
          "output_type": "execute_result",
          "data": {
            "text/plain": [
              "'v6xn3klsfjb4c2.'"
            ],
            "application/vnd.google.colaboratory.intrinsic+json": {
              "type": "string"
            }
          },
          "metadata": {},
          "execution_count": 1
        }
      ]
    },
    {
      "cell_type": "markdown",
      "source": [
        "Задание 3 (10 баллов)\n",
        "Проверка скобок"
      ],
      "metadata": {
        "id": "Hec7F6A6oSin"
      }
    },
    {
      "cell_type": "code",
      "source": [
        "#Функция для проверки скобок\n",
        "def correct_brackets(s=list(input())):\n",
        "\n",
        "  stack=[]\n",
        "\n",
        "  for i in range(len(s)):\n",
        "    #Ищем открывающие скобки и добавляем их в стек\n",
        "      if s[i]=='(' or s[i]=='{' or s[i]=='[':\n",
        "          stack.append(s[i])\n",
        "          continue\n",
        "    #Ищем закрывающие скобки, сравниваем их с последним элементом стека\n",
        "      if (s[i]==')' or s[i]=='}' or s[i]==']') and stack:\n",
        "        #Если находим пару, удаляем элемент из стека\n",
        "          if (stack[-1]+s[i]=='()') or (stack[-1]+s[i]=='{}') or (stack[-1]+s[i]=='[]'):\n",
        "              stack.pop()\n",
        "\n",
        "          else:\n",
        "              exit()\n",
        "      else:\n",
        "\n",
        "          exit()\n",
        "  #Если после перебора всего списка, стек пустой, значит пары скобок найдены, вывод True, если стек не пустой, скобки расставленны некорректно - False\n",
        "  if stack==[]:\n",
        "      return True\n",
        "  else:\n",
        "      return False\n",
        "\n",
        "correct_brackets()"
      ],
      "metadata": {
        "id": "xryw7q-xD_Xa",
        "colab": {
          "base_uri": "https://localhost:8080/"
        },
        "outputId": "a97af8c3-71c2-48d8-b23b-7a70ffa2122f"
      },
      "execution_count": null,
      "outputs": [
        {
          "name": "stdout",
          "output_type": "stream",
          "text": [
            "()()()\n"
          ]
        },
        {
          "output_type": "execute_result",
          "data": {
            "text/plain": [
              "True"
            ]
          },
          "metadata": {},
          "execution_count": 1
        }
      ]
    },
    {
      "cell_type": "markdown",
      "source": [
        "Задание 4 (10 баллов)\n",
        "Генератор паролей"
      ],
      "metadata": {
        "id": "_aQyPWNayCHp"
      }
    },
    {
      "cell_type": "code",
      "source": [
        "import string\n",
        "#Уникальность и случайность паролей улучшается использованием модуля secrets\n",
        "import secrets\n",
        "#Функция, генерирующая пароль, длина пароля задается пользователем\n",
        "def parol_gen(lenght = input('Введите длину пароля:')):\n",
        "  #Символы, из которых будет генерироваться пароль\n",
        "  alphabet = string.ascii_letters + string.digits + string.punctuation\n",
        "  punctuation = '!#$%&*+-=?@^_'\n",
        " #Цикл генерации пароля заданной длины\n",
        "  while True:\n",
        "    password = ''.join(secrets.choice(alphabet) for i in range(int(lenght)))\n",
        "    #Проверка на наличие всех типов символов\n",
        "    if (any(c.islower() for c in password)\n",
        "              and any(c.isupper() for c in password)\n",
        "              and any(c.isdigit() for c in password)\n",
        "              and any(c in punctuation for c in password)):\n",
        "              break\n",
        "  print(password)\n",
        "parol_gen()"
      ],
      "metadata": {
        "colab": {
          "base_uri": "https://localhost:8080/"
        },
        "id": "UxMQj5XO5gzb",
        "outputId": "ff127992-1cb3-48a5-d23d-d95d7562056e"
      },
      "execution_count": null,
      "outputs": [
        {
          "output_type": "stream",
          "name": "stdout",
          "text": [
            "Введите длину пароля:45\n",
            "oUqH,goS|Y|sA03{HCgr'veMdT5O9lA)FZmG)?QT&|XbC\n"
          ]
        }
      ]
    },
    {
      "cell_type": "markdown",
      "source": [
        "Задание 5 (6 баллов)\n",
        "Почти палиндром"
      ],
      "metadata": {
        "id": "B3b69R00nKho"
      }
    },
    {
      "cell_type": "code",
      "source": [
        "#Функция, проверяющая палиндромность\n",
        "def palindrome(s):\n",
        "  s = s.lower()\n",
        "  s = s.replace(' ','')\n",
        "\n",
        "  if len(s) == 0:\n",
        "    return False\n",
        "  else:\n",
        "\n",
        "    if s == s[::-1]:\n",
        "      return True\n",
        "    else:\n",
        "      #Функция, проверяющая почтипалиндромность\n",
        "      def almost_palindrome(s, k = 1):\n",
        "        count = 0\n",
        "\n",
        "        for i in range(len(s)//2):\n",
        "          if s[i] != s[-1 - i]:\n",
        "            count += 1\n",
        "\n",
        "        if count == k:\n",
        "          print('almost_palindrome')\n",
        "        else:\n",
        "          return False\n",
        "\n",
        "      return almost_palindrome(s, k = 1)\n",
        "\n",
        "palindrome('шалаш')"
      ],
      "metadata": {
        "colab": {
          "base_uri": "https://localhost:8080/"
        },
        "id": "CbmME8rHnNMt",
        "outputId": "60eee462-2b5b-482f-ecc1-5b91c796f84a"
      },
      "execution_count": null,
      "outputs": [
        {
          "output_type": "execute_result",
          "data": {
            "text/plain": [
              "True"
            ]
          },
          "metadata": {},
          "execution_count": 44
        }
      ]
    },
    {
      "cell_type": "markdown",
      "source": [
        "Задание 6 (8 баллов)\n",
        "Задача Шредингера"
      ],
      "metadata": {
        "id": "wDGle7zJ8tSi"
      }
    },
    {
      "cell_type": "code",
      "source": [
        "\n",
        "import random, os\n",
        "from google.colab import files\n",
        "#Основная функция Шредингера\n",
        "def shredinger(loremipsum = files.upload(), remove_share = input('Введите процент удаления от 0 до 100')):\n",
        "  #Функция, проверяющая корректный ввод аргументов\n",
        "  def process_number(argument):\n",
        "    x = os.path.splitext(list(loremipsum.keys())[0])[1]\n",
        "    try:\n",
        "        #Проверяем, что загружается файл с правильным расширением\n",
        "        if x != '.txt':\n",
        "            raise TypeError(\"Выберите файл с расширением .txt\")\n",
        "        # Проверяем, что число является целым\n",
        "        elif not isinstance(int(argument), int):\n",
        "            raise TypeError(\"Аргумент должен быть целым числом\")\n",
        "\n",
        "        # Проверяем, что число в допустимом диапазоне\n",
        "        elif not 0 <= int(argument) <= 100:\n",
        "            raise ValueError(\"Число должно быть от 0 до 100\")\n",
        "\n",
        "        else:\n",
        "            return argument\n",
        "\n",
        "    except TypeError as e:\n",
        "        print(f\"Ошибка: Неправильный тип данных. {e}\")\n",
        "    except ValueError as e:\n",
        "        print(f\"Ошибка: Недопустимое значение. {e}\")\n",
        "\n",
        "\n",
        "  process_number(remove_share)\n",
        "\n",
        "  remove_share = float(remove_share)/100\n",
        "  #Функция, извлекающая текст из загруженного файла\n",
        "  def decode_loremipsum(loremipsum):\n",
        "    key_loremipsum = list(loremipsum.keys())[0]\n",
        "    loremipsum_str = loremipsum[key_loremipsum].decode()\n",
        "    return loremipsum_str\n",
        "\n",
        "  loremipsum_str = decode_loremipsum(loremipsum)\n",
        "  loremipsum_word = loremipsum_str.split()\n",
        "\n",
        "  #Функция, заменяющая заданный процент слов текста на \"...\", сохраняя общий объем документа\n",
        "  def remove_share_loremipsum(string):\n",
        "    lenght_loremipsum_word = len(string)\n",
        "    num_words_to_remove = remove_share*lenght_loremipsum_word\n",
        "\n",
        "    for i in range(int(num_words_to_remove)):\n",
        "      random_word = random.choice(string)\n",
        "      if random_word in string:\n",
        "        index_random_word = string.index(random_word)\n",
        "        string[index_random_word] = '...'\n",
        "\n",
        "    loremipsum_word_removed = ' '.join(string)\n",
        "    print(loremipsum_word_removed)\n",
        "    #Запись результата\n",
        "    file_path = \"loremipsum_word_removed.txt\"\n",
        "    with open(file_path, \"w\", encoding=\"utf-8\") as file:\n",
        "      file.write(loremipsum_word_removed)\n",
        "      print(f\"Строка успешно записана в файл: {file_path}\")\n",
        "\n",
        "  loremipsum_removed = remove_share_loremipsum(loremipsum_word)\n",
        "\n",
        "\n",
        "  #print(loremipsum_word)\n",
        "\n",
        "shredinger()\n"
      ],
      "metadata": {
        "colab": {
          "base_uri": "https://localhost:8080/",
          "height": 144
        },
        "id": "UuODlgLfXctP",
        "outputId": "150ee7da-7252-4c65-afae-d25ef44fc2b2"
      },
      "execution_count": null,
      "outputs": [
        {
          "output_type": "display_data",
          "data": {
            "text/plain": [
              "<IPython.core.display.HTML object>"
            ],
            "text/html": [
              "\n",
              "     <input type=\"file\" id=\"files-bd55860d-f8e5-4342-b237-746c1217f77c\" name=\"files[]\" multiple disabled\n",
              "        style=\"border:none\" />\n",
              "     <output id=\"result-bd55860d-f8e5-4342-b237-746c1217f77c\">\n",
              "      Upload widget is only available when the cell has been executed in the\n",
              "      current browser session. Please rerun this cell to enable.\n",
              "      </output>\n",
              "      <script>// Copyright 2017 Google LLC\n",
              "//\n",
              "// Licensed under the Apache License, Version 2.0 (the \"License\");\n",
              "// you may not use this file except in compliance with the License.\n",
              "// You may obtain a copy of the License at\n",
              "//\n",
              "//      http://www.apache.org/licenses/LICENSE-2.0\n",
              "//\n",
              "// Unless required by applicable law or agreed to in writing, software\n",
              "// distributed under the License is distributed on an \"AS IS\" BASIS,\n",
              "// WITHOUT WARRANTIES OR CONDITIONS OF ANY KIND, either express or implied.\n",
              "// See the License for the specific language governing permissions and\n",
              "// limitations under the License.\n",
              "\n",
              "/**\n",
              " * @fileoverview Helpers for google.colab Python module.\n",
              " */\n",
              "(function(scope) {\n",
              "function span(text, styleAttributes = {}) {\n",
              "  const element = document.createElement('span');\n",
              "  element.textContent = text;\n",
              "  for (const key of Object.keys(styleAttributes)) {\n",
              "    element.style[key] = styleAttributes[key];\n",
              "  }\n",
              "  return element;\n",
              "}\n",
              "\n",
              "// Max number of bytes which will be uploaded at a time.\n",
              "const MAX_PAYLOAD_SIZE = 100 * 1024;\n",
              "\n",
              "function _uploadFiles(inputId, outputId) {\n",
              "  const steps = uploadFilesStep(inputId, outputId);\n",
              "  const outputElement = document.getElementById(outputId);\n",
              "  // Cache steps on the outputElement to make it available for the next call\n",
              "  // to uploadFilesContinue from Python.\n",
              "  outputElement.steps = steps;\n",
              "\n",
              "  return _uploadFilesContinue(outputId);\n",
              "}\n",
              "\n",
              "// This is roughly an async generator (not supported in the browser yet),\n",
              "// where there are multiple asynchronous steps and the Python side is going\n",
              "// to poll for completion of each step.\n",
              "// This uses a Promise to block the python side on completion of each step,\n",
              "// then passes the result of the previous step as the input to the next step.\n",
              "function _uploadFilesContinue(outputId) {\n",
              "  const outputElement = document.getElementById(outputId);\n",
              "  const steps = outputElement.steps;\n",
              "\n",
              "  const next = steps.next(outputElement.lastPromiseValue);\n",
              "  return Promise.resolve(next.value.promise).then((value) => {\n",
              "    // Cache the last promise value to make it available to the next\n",
              "    // step of the generator.\n",
              "    outputElement.lastPromiseValue = value;\n",
              "    return next.value.response;\n",
              "  });\n",
              "}\n",
              "\n",
              "/**\n",
              " * Generator function which is called between each async step of the upload\n",
              " * process.\n",
              " * @param {string} inputId Element ID of the input file picker element.\n",
              " * @param {string} outputId Element ID of the output display.\n",
              " * @return {!Iterable<!Object>} Iterable of next steps.\n",
              " */\n",
              "function* uploadFilesStep(inputId, outputId) {\n",
              "  const inputElement = document.getElementById(inputId);\n",
              "  inputElement.disabled = false;\n",
              "\n",
              "  const outputElement = document.getElementById(outputId);\n",
              "  outputElement.innerHTML = '';\n",
              "\n",
              "  const pickedPromise = new Promise((resolve) => {\n",
              "    inputElement.addEventListener('change', (e) => {\n",
              "      resolve(e.target.files);\n",
              "    });\n",
              "  });\n",
              "\n",
              "  const cancel = document.createElement('button');\n",
              "  inputElement.parentElement.appendChild(cancel);\n",
              "  cancel.textContent = 'Cancel upload';\n",
              "  const cancelPromise = new Promise((resolve) => {\n",
              "    cancel.onclick = () => {\n",
              "      resolve(null);\n",
              "    };\n",
              "  });\n",
              "\n",
              "  // Wait for the user to pick the files.\n",
              "  const files = yield {\n",
              "    promise: Promise.race([pickedPromise, cancelPromise]),\n",
              "    response: {\n",
              "      action: 'starting',\n",
              "    }\n",
              "  };\n",
              "\n",
              "  cancel.remove();\n",
              "\n",
              "  // Disable the input element since further picks are not allowed.\n",
              "  inputElement.disabled = true;\n",
              "\n",
              "  if (!files) {\n",
              "    return {\n",
              "      response: {\n",
              "        action: 'complete',\n",
              "      }\n",
              "    };\n",
              "  }\n",
              "\n",
              "  for (const file of files) {\n",
              "    const li = document.createElement('li');\n",
              "    li.append(span(file.name, {fontWeight: 'bold'}));\n",
              "    li.append(span(\n",
              "        `(${file.type || 'n/a'}) - ${file.size} bytes, ` +\n",
              "        `last modified: ${\n",
              "            file.lastModifiedDate ? file.lastModifiedDate.toLocaleDateString() :\n",
              "                                    'n/a'} - `));\n",
              "    const percent = span('0% done');\n",
              "    li.appendChild(percent);\n",
              "\n",
              "    outputElement.appendChild(li);\n",
              "\n",
              "    const fileDataPromise = new Promise((resolve) => {\n",
              "      const reader = new FileReader();\n",
              "      reader.onload = (e) => {\n",
              "        resolve(e.target.result);\n",
              "      };\n",
              "      reader.readAsArrayBuffer(file);\n",
              "    });\n",
              "    // Wait for the data to be ready.\n",
              "    let fileData = yield {\n",
              "      promise: fileDataPromise,\n",
              "      response: {\n",
              "        action: 'continue',\n",
              "      }\n",
              "    };\n",
              "\n",
              "    // Use a chunked sending to avoid message size limits. See b/62115660.\n",
              "    let position = 0;\n",
              "    do {\n",
              "      const length = Math.min(fileData.byteLength - position, MAX_PAYLOAD_SIZE);\n",
              "      const chunk = new Uint8Array(fileData, position, length);\n",
              "      position += length;\n",
              "\n",
              "      const base64 = btoa(String.fromCharCode.apply(null, chunk));\n",
              "      yield {\n",
              "        response: {\n",
              "          action: 'append',\n",
              "          file: file.name,\n",
              "          data: base64,\n",
              "        },\n",
              "      };\n",
              "\n",
              "      let percentDone = fileData.byteLength === 0 ?\n",
              "          100 :\n",
              "          Math.round((position / fileData.byteLength) * 100);\n",
              "      percent.textContent = `${percentDone}% done`;\n",
              "\n",
              "    } while (position < fileData.byteLength);\n",
              "  }\n",
              "\n",
              "  // All done.\n",
              "  yield {\n",
              "    response: {\n",
              "      action: 'complete',\n",
              "    }\n",
              "  };\n",
              "}\n",
              "\n",
              "scope.google = scope.google || {};\n",
              "scope.google.colab = scope.google.colab || {};\n",
              "scope.google.colab._files = {\n",
              "  _uploadFiles,\n",
              "  _uploadFilesContinue,\n",
              "};\n",
              "})(self);\n",
              "</script> "
            ]
          },
          "metadata": {}
        },
        {
          "output_type": "stream",
          "name": "stdout",
          "text": [
            "Saving лоремипсум.txt to лоремипсум (1).txt\n",
            "Введите процент удаления от 0 до 10026\n",
            "Lorem ... ... sit ... consectetur adipiscing elit. Cras vitae dapibus ligula. Donec hendrerit, velit feugiat rhoncus maximus, justo sapien ... erat, ... ... eros ... a lacus. Nullam nisi ... ... vitae ... ... aliquam auctor purus. Pellentesque ... ... ... lacinia ... ... ... ... augue, ... ... ... commodo et. ... eleifend, ... ... ... laoreet, lacus elit ... ... ... convallis ... ... sit amet augue. Cras ... ipsum mauris. Proin ornare metus ... dolor ... ... ... efficitur rhoncus ... ... maximus. Morbi nisl mauris, rutrum eu risus ... efficitur dapibus orci. ... bibendum ipsum mi, consectetur sagittis libero vehicula id. Nam ... lectus ... ... scelerisque ... ... ... Integer ... erat ... ... tristique vestibulum non ... justo. Pellentesque ... non magna ... aliquam. Vestibulum ... ... lobortis. Etiam gravida lectus ... ... consectetur. Donec eu augue ... Donec ut ... est, ... faucibus neque. Proin tincidunt dapibus aliquam. Sed ... ... lobortis a consectetur sed, rhoncus eu ... ... hac habitasse platea dictumst. Nunc ... ante, pharetra sit amet ... sit amet, viverra ... nunc. Sed magna metus, posuere sit amet ... vel, tincidunt mattis orci. Suspendisse sagittis rutrum ante, ac eleifend ... ... nec accumsan ... facilisis mollis sem. Quisque vel feugiat ... Suspendisse dignissim ornare magna, vitae ... sem laoreet sed. Sed et ... libero. Nulla facilisi. ... non consectetur nunc, ... placerat massa. Sed ... et nulla vitae placerat. Nam suscipit nisi eget diam hendrerit, faucibus vulputate risus blandit. Suspendisse potenti. Proin mollis velit ut tincidunt eleifend. Fusce eget ligula nulla. Sed arcu nibh, molestie ut eros et, volutpat fringilla arcu. Vestibulum blandit semper tortor, vel varius leo tempor vitae. In ut enim ... sem sollicitudin varius in a est. Vivamus ... turpis sed enim condimentum gravida. Praesent sem turpis, imperdiet et felis non, luctus pharetra libero. Cras gravida purus ... metus suscipit, ... pellentesque sem placerat. Cras in iaculis nunc. Nunc quis ante in odio ... ... Duis et volutpat quam, convallis fringilla tortor. Donec dictum ... ac massa ... vel congue ipsum tristique. Pellentesque mattis ... non ex ... sit amet placerat lacus porta. Maecenas rhoncus nulla quis enim rutrum, id tempus ... pharetra. Nam id elit ... Maecenas ac felis eu ligula iaculis accumsan a ut sapien.\n",
            "Строка успешно записана в файл: loremipsum_word_removed.txt\n"
          ]
        }
      ]
    }
  ]
}