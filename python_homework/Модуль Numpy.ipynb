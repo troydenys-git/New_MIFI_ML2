{
 "cells": [
  {
   "cell_type": "markdown",
   "id": "a77f0caa",
   "metadata": {},
   "source": [
    "# Типы данных"
   ]
  },
  {
   "cell_type": "markdown",
   "id": "d05cd6c0",
   "metadata": {},
   "source": [
    "## Целочисленные типы данных в NumPy"
   ]
  },
  {
   "cell_type": "code",
   "execution_count": 2,
   "id": "a3a91f5f",
   "metadata": {},
   "outputs": [
    {
     "data": {
      "text/plain": [
       "-680564733841876926926749214863536422912"
      ]
     },
     "execution_count": 2,
     "metadata": {},
     "output_type": "execute_result"
    }
   ],
   "source": [
    "-(2**128)*2 "
   ]
  },
  {
   "cell_type": "code",
   "execution_count": null,
   "id": "725eea78",
   "metadata": {},
   "outputs": [
    {
     "name": "stdout",
     "output_type": "stream",
     "text": [
      "25\n",
      "<class 'numpy.int8'>\n",
      "Machine parameters for int64\n",
      "---------------------------------------------------------------\n",
      "min = -9223372036854775808\n",
      "max = 9223372036854775807\n",
      "---------------------------------------------------------------\n",
      "\n"
     ]
    }
   ],
   "source": [
    "import numpy as np\n",
    "a = np.int8(25)\n",
    "print(a)\n",
    "# 25\n",
    "\n",
    "print(type(a))\n",
    "# <class 'numpy.int8'>\n",
    "\n",
    "# Можно применить к самому\n",
    "# названию типа данных\n",
    "np.iinfo(np.int8)\n",
    "# iinfo(min=-128, max=127, dtype=int8)\n",
    "\n",
    "# Можно применить к существующему\n",
    "# конкретному объекту\n",
    "np.iinfo(a)\n",
    "# iinfo(min=-128, max=127, dtype=int8)\n",
    "\n",
    "b = np.int64(36)\n",
    "print(np.iinfo(b))\n",
    "\n",
    "\n",
    "b = np.uint8(124) #беззнаковые целочисленные типы данных\n",
    "print(b)\n",
    "# 124\n",
    "print(type(b))\n",
    "# <class 'numpy.uint8'>\n",
    "np.iinfo(b)\n",
    "# iinfo(min=0, max=255, dtype=uint8)\n",
    "\n",
    "#Тип данных не сохранится, если просто присвоить переменной с заданным NumPy-типом данных новое значение:\n",
    "\n",
    "a = np.int32(1000)\n",
    "print(a)\n",
    "# 1000\n",
    "print(type(a))\n",
    "# <class 'numpy.int32'>\n",
    "a = 2056\n",
    "print(a)\n",
    "# 2056\n",
    "print(type(a))\n",
    "# <class 'int'>\n",
    "\n",
    "#Вместо этого следует снова указать нужный NumPy-тип данных:\n",
    "\n",
    "a = np.int32(1000)\n",
    "print(a)\n",
    "# 1000\n",
    "print(type(a))\n",
    "# <class 'numpy.int32'>\n",
    "a = np.int32(2056)\n",
    "print(a)\n",
    "# 2056\n",
    "print(type(a))\n",
    "# <class 'numpy.int32'>\n",
    "#А вот арифметические операции сохраняют NumPy-тип данных:\n",
    "\n",
    "a = np.int32(1000)\n",
    "b = a + 25\n",
    "print(b)\n",
    "# 1025\n",
    "print(type(b))\n",
    "# <class 'numpy.int64'>\n",
    "\n",
    "#Если операция проводится с двумя NumPy-типами с фиксированным объёмом памяти, в результате сохраняется наиболее «старший» тип:\n",
    "\n",
    "a = np.int32(1000)\n",
    "b = np.int8(25)\n",
    "c = a + b\n",
    "print(c)\n",
    "# 1025\n",
    "print(type(c))\n",
    "# <class 'numpy.int32'>\n",
    "\n",
    "#Следует понимать, что произойдёт, если выделенной памяти для хранения переменной окажется недостаточно.\n",
    "\n",
    "#Например, попробуем преобразовать число 260 в тип данных np.int8. Вспомните, какое максимальное число может храниться в этом типе данных.\n",
    "\n",
    "a = np.int8(260)\n",
    "print(a)\n",
    "# 4\n",
    "#В переменной a теперь оказалось число 4, а не 260. По сути в переменную записался остаток от деления 260 на 256, а не само число. Ошибка при этом не возникла.\n",
    "\n",
    "#Если же при арифметических операциях происходит переполнение максимально выделенной памяти для типа, возникает предупреждение.\n",
    "\n",
    "#Например, выполним сложение двух очень больших чисел типа int32 (максимум для этого типа — 2147483647):\n",
    "\n",
    "a = np.int32(2147483610)\n",
    "b = np.int32(2147483605)\n",
    "print(a, b)\n",
    "# 2147483610 2147483605\n",
    "print(a + b)\n",
    "# -81\n",
    "# RuntimeWarning: overflow encountered in int_scalars\n",
    "# Переполнено int'овое значение\n",
    "#Значение было посчитано, но при этом оно явно отличается от той суммы, которую мы хотели получить.\n",
    "\n",
    "#Чтобы избежать этой ошибки, вначале следовало преобразовать переменные к большему типу:\n",
    "\n",
    "a = np.int32(2147483610)\n",
    "b = np.int32(2147483605)\n",
    "print(a, b)\n",
    "# 2147483610 2147483605\n",
    "print(np.int64(a) + np.int64(b))\n",
    "# 4294967215\n",
    "\n",
    "\n"
   ]
  },
  {
   "cell_type": "markdown",
   "id": "4691b2ee",
   "metadata": {},
   "source": [
    "## Типы данных с плавающей точкой в NumPy"
   ]
  },
  {
   "cell_type": "code",
   "execution_count": null,
   "id": "9b8c3bad",
   "metadata": {},
   "outputs": [],
   "source": [
    "#Помимо целых чисел, в NumPy, конечно, есть и дробные — float. Их названия строятся по тому же принципу: корень + объём памяти в битах. Беззнаковых float нет.\n",
    "\n",
    "#Доступны следующие типы данных float: float16, float32, float64 (применяется по умолчанию, если объём памяти не задан дополнительно), float128.\n",
    "\n",
    "#Чтобы узнать границы float и его точность, можно воспользоваться функцией np.finfo(<float тип данных>) (от англ. float info):\n",
    "\n",
    "np.finfo(np.float16)\n",
    "# finfo(resolution=0.001, min=-6.55040e+04, max=6.55040e+04, dtype=float16)\n",
    "np.finfo(np.float32)\n",
    "# finfo(resolution=1e-06, min=-3.4028235e+38, max=3.4028235e+38, dtype=float32)\n",
    "np.finfo(np.float64)\n",
    "# finfo(resolution=1e-15, min=-1.7976931348623157e+308, max=1.7976931348623157e+308, dtype=float64)\n",
    "np.finfo(np.float128)\n",
    "# finfo(resolution=1e-18, min=-1.189731495357231765e+4932, max=1.189731495357231765e+4932, dtype=float128)\n",
    "#Примечание. Если ввести в VS Code команду np.finfo(np.float128), ответом будет AttributeError: module 'numpy' has no attribute 'float128'. Всё потому, что numpy.float128 не поддерживается в Windows с использованием компилятора MS. Если вам всё же нужно поработать с numpy.float128, воспользуйтесь онлайн-IDE.\n",
    "\n",
    "R#esolution (от англ. «разрешение») в выводе finfo означает точность, с которой сохраняется десятичная часть числа в стандартном виде. Для float16 это 0.001, то есть числа 4.12 и 4.13 будут отличимы друг от друга, а вот 4.124 и 4.125 — нет. Третий знак числа float16 идёт уже с шагом 0.005:\n",
    "\n",
    "print(np.float16(4.12))\n",
    "# 4.12\n",
    "print(np.float16(4.13))\n",
    "# 4.13\n",
    "print(np.float16(4.123))\n",
    "# 4.12\n",
    "print(np.float16(4.124))\n",
    "# 4.125\n",
    "print(np.float16(4.125))\n",
    "# 4.125\n",
    "\n"
   ]
  },
  {
   "cell_type": "markdown",
   "id": "cc545ed9",
   "metadata": {},
   "source": [
    "## Дополнительные типы данных в NumPy"
   ]
  },
  {
   "cell_type": "code",
   "execution_count": null,
   "id": "1d1e5c41",
   "metadata": {},
   "outputs": [],
   "source": [
    "#Полный список (а точнее, словарь) типов данных в NumPy можно получить с помощью атрибута sctypeDict. Вывод не приводится, поскольку в этом словаре содержится более 100 ключей (их число может варьироваться в зависимости от версии NumPy)! Однако основные названия типов данных в NumPy не меняются от версии к версии.\n",
    "\n",
    "print(np.sctypeDict)\n",
    "print(len(np.sctypeDict))\n",
    "# 158, но может быть 135 или 139\n",
    "#Н#а самом деле реальных типов данных гораздо меньше, просто одни и те же типы данных могут иметь разные ярлыки. Получить список названий уникальных типов данных NumPy можно с помощью следующего выражения. Попробуйте вспомнить, что делают все функции, которые в нём использованы:\n",
    "\n",
    "print(*sorted(map(str, set(np.sctypeDict.values()))), sep='\\n')\n",
    "#Всего в выдаче будет 24 строки. Int, uint и float мы уже изучили. Datetime и timedelta используются для хранения времени, complex используется для работы с комплéксными числами.\n",
    "\n",
    "#Пример с bool:\n",
    "\n",
    "a = True\n",
    "print(type(a))\n",
    "# <class 'bool'>\n",
    "a = np.bool(a)\n",
    "print(type(a))\n",
    "# <class 'bool'>\n",
    "a = np.bool_(a)\n",
    "print(type(a))\n",
    "# <class 'numpy.bool_'>\n",
    " \n",
    "# Значения равны\n",
    "print(np.bool(True) == np.bool_(True))\n",
    "# True\n",
    "# А типы — нет:\n",
    "print(type(np.bool(True)) == type(np.bool_(True)))\n",
    "# False\n",
    "#Пример со str:\n",
    "\n",
    "a = \"Hello world!\"\n",
    "print(type(a))\n",
    "# <class 'str'>\n",
    "a = np.str(a)\n",
    "print(type(a))\n",
    "# <class 'str'>\n",
    "a = np.str_(a)\n",
    "print(type(a))\n",
    "# <class 'numpy.str_'>\n",
    "\n"
   ]
  },
  {
   "cell_type": "code",
   "execution_count": null,
   "id": "e766d80c",
   "metadata": {},
   "outputs": [
    {
     "name": "stdout",
     "output_type": "stream",
     "text": [
      "56\n"
     ]
    }
   ],
   "source": [
    "import numpy as np\n",
    "#a = np.uint8(-456)\n",
    "print(-456%256)"
   ]
  }
 ],
 "metadata": {
  "kernelspec": {
   "display_name": "Python 3",
   "language": "python",
   "name": "python3"
  },
  "language_info": {
   "codemirror_mode": {
    "name": "ipython",
    "version": 3
   },
   "file_extension": ".py",
   "mimetype": "text/x-python",
   "name": "python",
   "nbconvert_exporter": "python",
   "pygments_lexer": "ipython3",
   "version": "3.10.11"
  }
 },
 "nbformat": 4,
 "nbformat_minor": 5
}
